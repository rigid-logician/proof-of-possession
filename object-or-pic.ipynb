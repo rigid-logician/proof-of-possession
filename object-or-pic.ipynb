{
  "nbformat": 4,
  "nbformat_minor": 0,
  "metadata": {
    "colab": {
      "name": "Untitled1.ipynb",
      "provenance": [],
      "collapsed_sections": [],
      "authorship_tag": "ABX9TyN0n0+x7rD6Sljy2HJsSkpR",
      "include_colab_link": true
    },
    "kernelspec": {
      "name": "python3",
      "display_name": "Python 3"
    },
    "language_info": {
      "name": "python"
    }
  },
  "cells": [
    {
      "cell_type": "markdown",
      "metadata": {
        "id": "view-in-github",
        "colab_type": "text"
      },
      "source": [
        "<a href=\"https://colab.research.google.com/github/rigid-logician/proof-of-possession/blob/develop/object-or-pic.ipynb\" target=\"_parent\"><img src=\"https://colab.research.google.com/assets/colab-badge.svg\" alt=\"Open In Colab\"/></a>"
      ]
    },
    {
      "cell_type": "code",
      "source": [
        "!pwd"
      ],
      "metadata": {
        "colab": {
          "base_uri": "https://localhost:8080/"
        },
        "id": "-0fmvvzuTV7U",
        "outputId": "ed3559bc-c83a-449f-e1b0-71fd90de0dfe"
      },
      "execution_count": 22,
      "outputs": [
        {
          "output_type": "stream",
          "name": "stdout",
          "text": [
            "/content\n"
          ]
        }
      ]
    },
    {
      "cell_type": "code",
      "source": [
        "# def noise_estimate(img):\n",
        "#      43   print(\"entering noise_estimate\")\n",
        "# ---> 44   denoised = cv2.fastNlMeansDenoising(img)\n",
        "#      45   print(\"denoising done!\")\n",
        "#      46   mse = ((img - denoised)**2).mean(axis=0)"
      ],
      "metadata": {
        "id": "kWSG1NMQ9tep"
      },
      "execution_count": null,
      "outputs": []
    },
    {
      "cell_type": "code",
      "source": [
        "%load_ext autoreload\n",
        "%autoreload 2"
      ],
      "metadata": {
        "id": "BdQ7voh8NIAm"
      },
      "execution_count": 1,
      "outputs": []
    },
    {
      "cell_type": "code",
      "execution_count": 2,
      "metadata": {
        "id": "ib82k9rxyWD5"
      },
      "outputs": [],
      "source": [
        "\n",
        "import cv2\n",
        "import sys, os\n",
        "import pandas as pd\n",
        "\n",
        "sys.path.insert(0,'./')\n",
        "from src import main\n"
      ]
    },
    {
      "cell_type": "code",
      "source": [
        "images = [f for f in os.listdir('.') if '.png' in f]\n",
        "images.sort()\n",
        "images = [f'./{img}' for img in images]\n",
        "images"
      ],
      "metadata": {
        "colab": {
          "base_uri": "https://localhost:8080/"
        },
        "id": "2wdCygkPywQD",
        "outputId": "703c57b4-fac3-4e6b-a8a6-19971665b6f0"
      },
      "execution_count": 3,
      "outputs": [
        {
          "output_type": "execute_result",
          "data": {
            "text/plain": [
              "['./a1.png', './a2.png', './b1.png', './b2.png', './c1.png', './c2.png']"
            ]
          },
          "metadata": {},
          "execution_count": 3
        }
      ]
    },
    {
      "cell_type": "code",
      "source": [
        "im_arr = []\n",
        "\n",
        "for img in images:\n",
        "  im_arr.append(cv2.imread(img, cv2.IMREAD_GRAYSCALE))\n",
        "  print(im_arr[-1].shape)\n",
        "\n",
        "im_shape = im_arr[-1].shape"
      ],
      "metadata": {
        "id": "ZH0Qt42b0Nct",
        "colab": {
          "base_uri": "https://localhost:8080/"
        },
        "outputId": "758169a0-f5c2-4d90-bd02-72d4de686e28"
      },
      "execution_count": 10,
      "outputs": [
        {
          "output_type": "stream",
          "name": "stdout",
          "text": [
            "(2500, 1875)\n",
            "(2500, 1875)\n",
            "(2500, 1875)\n",
            "(2500, 1875)\n",
            "(2500, 1875)\n",
            "(2500, 1875)\n"
          ]
        }
      ]
    },
    {
      "cell_type": "code",
      "source": [
        "folder = main.setup_save_loc()\n",
        "\n",
        "for idx, arr in enumerate(im_arr):\n",
        "  if idx % 2 == 0:\n",
        "    print(f\"==== pair {int(idx/2)+1}\")\n",
        "    imgA, imgB = im_arr[idx], im_arr[idx+1]\n",
        "    # main.save_img_pair(imgA, imgB)\n",
        "    main.calc_stats_and_disp(folder, idx, imgA, imgB)\n",
        "  \n"
      ],
      "metadata": {
        "colab": {
          "base_uri": "https://localhost:8080/",
          "height": 838
        },
        "id": "5nwMTfpuE-R3",
        "outputId": "0c2d9f75-4941-4ab4-ab3f-3f70189c8a77"
      },
      "execution_count": 30,
      "outputs": [
        {
          "output_type": "stream",
          "name": "stdout",
          "text": [
            "created folder :  /content/result/20220620-000130\n",
            "==== pair 1\n",
            "entering noise_estimate\n",
            "denoising done!\n",
            "entering noise_estimate\n",
            "denoising done!\n",
            "(2500, 1875)\n",
            "(2500, 1875)\n",
            "==== pair 2\n",
            "entering noise_estimate\n",
            "denoising done!\n",
            "entering noise_estimate\n",
            "denoising done!\n",
            "(2500, 1875)\n",
            "(2500, 1875)\n",
            "==== pair 3\n",
            "entering noise_estimate\n",
            "denoising done!\n",
            "entering noise_estimate\n"
          ]
        },
        {
          "output_type": "error",
          "ename": "KeyboardInterrupt",
          "evalue": "ignored",
          "traceback": [
            "\u001b[0;31m---------------------------------------------------------------------------\u001b[0m",
            "\u001b[0;31mKeyboardInterrupt\u001b[0m                         Traceback (most recent call last)",
            "\u001b[0;32m<ipython-input-30-514ad509cd29>\u001b[0m in \u001b[0;36m<module>\u001b[0;34m()\u001b[0m\n\u001b[1;32m      6\u001b[0m     \u001b[0mimgA\u001b[0m\u001b[0;34m,\u001b[0m \u001b[0mimgB\u001b[0m \u001b[0;34m=\u001b[0m \u001b[0mim_arr\u001b[0m\u001b[0;34m[\u001b[0m\u001b[0midx\u001b[0m\u001b[0;34m]\u001b[0m\u001b[0;34m,\u001b[0m \u001b[0mim_arr\u001b[0m\u001b[0;34m[\u001b[0m\u001b[0midx\u001b[0m\u001b[0;34m+\u001b[0m\u001b[0;36m1\u001b[0m\u001b[0;34m]\u001b[0m\u001b[0;34m\u001b[0m\u001b[0;34m\u001b[0m\u001b[0m\n\u001b[1;32m      7\u001b[0m     \u001b[0;31m# main.save_img_pair(imgA, imgB)\u001b[0m\u001b[0;34m\u001b[0m\u001b[0;34m\u001b[0m\u001b[0;34m\u001b[0m\u001b[0m\n\u001b[0;32m----> 8\u001b[0;31m     \u001b[0mmain\u001b[0m\u001b[0;34m.\u001b[0m\u001b[0mcalc_stats_and_disp\u001b[0m\u001b[0;34m(\u001b[0m\u001b[0mfolder\u001b[0m\u001b[0;34m,\u001b[0m \u001b[0midx\u001b[0m\u001b[0;34m,\u001b[0m \u001b[0mimgA\u001b[0m\u001b[0;34m,\u001b[0m \u001b[0mimgB\u001b[0m\u001b[0;34m)\u001b[0m\u001b[0;34m\u001b[0m\u001b[0;34m\u001b[0m\u001b[0m\n\u001b[0m\u001b[1;32m      9\u001b[0m \u001b[0;34m\u001b[0m\u001b[0m\n",
            "\u001b[0;32m/content/src/main.py\u001b[0m in \u001b[0;36mcalc_stats_and_disp\u001b[0;34m(folder, fname, imgA, imgB)\u001b[0m\n\u001b[1;32m     53\u001b[0m \u001b[0;34m\u001b[0m\u001b[0m\n\u001b[1;32m     54\u001b[0m   \u001b[0mresA\u001b[0m\u001b[0;34m,\u001b[0m \u001b[0mnoiseA\u001b[0m \u001b[0;34m=\u001b[0m \u001b[0mnoise_estimate\u001b[0m\u001b[0;34m(\u001b[0m\u001b[0mimgA\u001b[0m\u001b[0;34m)\u001b[0m\u001b[0;34m\u001b[0m\u001b[0;34m\u001b[0m\u001b[0m\n\u001b[0;32m---> 55\u001b[0;31m   \u001b[0mresB\u001b[0m\u001b[0;34m,\u001b[0m \u001b[0mnoiseB\u001b[0m \u001b[0;34m=\u001b[0m \u001b[0mnoise_estimate\u001b[0m\u001b[0;34m(\u001b[0m\u001b[0mimgB\u001b[0m\u001b[0;34m)\u001b[0m\u001b[0;34m\u001b[0m\u001b[0;34m\u001b[0m\u001b[0m\n\u001b[0m\u001b[1;32m     56\u001b[0m \u001b[0;34m\u001b[0m\u001b[0m\n\u001b[1;32m     57\u001b[0m   \u001b[0mprint\u001b[0m\u001b[0;34m(\u001b[0m\u001b[0mresA\u001b[0m\u001b[0;34m.\u001b[0m\u001b[0mshape\u001b[0m\u001b[0;34m)\u001b[0m\u001b[0;34m\u001b[0m\u001b[0;34m\u001b[0m\u001b[0m\n",
            "\u001b[0;32m/content/src/main.py\u001b[0m in \u001b[0;36mnoise_estimate\u001b[0;34m(img)\u001b[0m\n\u001b[1;32m     42\u001b[0m \u001b[0;32mdef\u001b[0m \u001b[0mnoise_estimate\u001b[0m\u001b[0;34m(\u001b[0m\u001b[0mimg\u001b[0m\u001b[0;34m)\u001b[0m\u001b[0;34m:\u001b[0m\u001b[0;34m\u001b[0m\u001b[0;34m\u001b[0m\u001b[0m\n\u001b[1;32m     43\u001b[0m   \u001b[0mprint\u001b[0m\u001b[0;34m(\u001b[0m\u001b[0;34m\"entering noise_estimate\"\u001b[0m\u001b[0;34m)\u001b[0m\u001b[0;34m\u001b[0m\u001b[0;34m\u001b[0m\u001b[0m\n\u001b[0;32m---> 44\u001b[0;31m   \u001b[0mdenoised\u001b[0m \u001b[0;34m=\u001b[0m \u001b[0mcv2\u001b[0m\u001b[0;34m.\u001b[0m\u001b[0mfastNlMeansDenoising\u001b[0m\u001b[0;34m(\u001b[0m\u001b[0mimg\u001b[0m\u001b[0;34m)\u001b[0m\u001b[0;34m\u001b[0m\u001b[0;34m\u001b[0m\u001b[0m\n\u001b[0m\u001b[1;32m     45\u001b[0m   \u001b[0mprint\u001b[0m\u001b[0;34m(\u001b[0m\u001b[0;34m\"denoising done!\"\u001b[0m\u001b[0;34m)\u001b[0m\u001b[0;34m\u001b[0m\u001b[0;34m\u001b[0m\u001b[0m\n\u001b[1;32m     46\u001b[0m   \u001b[0mmse\u001b[0m \u001b[0;34m=\u001b[0m \u001b[0;34m(\u001b[0m\u001b[0;34m(\u001b[0m\u001b[0mimg\u001b[0m \u001b[0;34m-\u001b[0m \u001b[0mdenoised\u001b[0m\u001b[0;34m)\u001b[0m\u001b[0;34m**\u001b[0m\u001b[0;36m2\u001b[0m\u001b[0;34m)\u001b[0m\u001b[0;34m.\u001b[0m\u001b[0mmean\u001b[0m\u001b[0;34m(\u001b[0m\u001b[0maxis\u001b[0m\u001b[0;34m=\u001b[0m\u001b[0;36m0\u001b[0m\u001b[0;34m)\u001b[0m\u001b[0;34m\u001b[0m\u001b[0;34m\u001b[0m\u001b[0m\n",
            "\u001b[0;31mKeyboardInterrupt\u001b[0m: "
          ]
        }
      ]
    },
    {
      "cell_type": "code",
      "source": [
        ""
      ],
      "metadata": {
        "id": "oB2Bero_GaT-"
      },
      "execution_count": null,
      "outputs": []
    }
  ]
}